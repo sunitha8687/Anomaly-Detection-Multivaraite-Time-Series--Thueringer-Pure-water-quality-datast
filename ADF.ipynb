{
 "cells": [
  {
   "cell_type": "code",
   "execution_count": null,
   "metadata": {
    "collapsed": true
   },
   "outputs": [],
   "source": [
    "import pandas as pd\n",
    "import matplotlib.pyplot as plt\n",
    "\n",
    "#from sklearn import preprocessing\n",
    "#from sklearn.ensemble import IsolationForest\n",
    "from pandas import read_csv\n",
    "from statsmodels.tsa.stattools import adfuller\n",
    "\n",
    "#file_path = r'~/Dropbox/TH_Koln/Semester_3/Case_Studies/Detecting_Anomalies/waterDataTraining.csv'\n",
    "\n",
    "csvReader = read_csv('waterDataTraining.csv')\n",
    "print(csvReader.describe())\n",
    "\n",
    "csvReader.dropna(inplace=True)\n",
    "csvReader['Time'] = pd.to_datetime(csvReader['Time'])\n",
    "csvReader.index = csvReader['Time']\n",
    "window = 1440*7 #checking the stationarity of the variable in the data for one week\n",
    "window2 = 1440 #checking the stationarity of the variable in the data for daily\n",
    "\n",
    "X = csvReader['Redox'][:window]\n",
    "X1 = csvReader['Cl_2'][:window]\n",
    "X11 = csvReader['Cl_2'][:window2]\n",
    "X2 = csvReader['Tp'][:window]\n",
    "X22 = csvReader['Tp'][:window2]\n",
    "X3 = csvReader['Cl'][:window]\n",
    "X33 = csvReader['Cl'][:window2]\n",
    "X4 = csvReader['pH'][:window]\n",
    "X5 = csvReader['Leit'][:window]\n",
    "X55 = csvReader['Leit'][:window2]\n",
    "X6 = csvReader['Trueb'][:window]\n",
    "X7 = csvReader['Fm'][:window]\n",
    "X8 = csvReader['Fm_2'][:window]\n",
    "print(type(X2))\n",
    "#X8.plot()\n",
    "#plt.show()\n",
    "result = adfuller(X22)\n",
    "print('ADF Statistic: %f' % result[0])\n",
    "print('p-value: %f' % result[1])\n",
    "print('Critical Values:')\n",
    "for key, value in result[4].items():\n",
    "\tprint('\\t%s: %.3f' % (key, value))\n",
    "\n",
    "##STL Decomposition for non-stationary data - Tp in our case\n",
    "import statsmodels.api as sm\n",
    "res = sm.tsa.seasonal_decompose(X2,freq=1440)\n",
    "resplot = res.plot()\n",
    "plt.show()\n"
   ]
  }
 ],
 "metadata": {
  "language_info": {
   "codemirror_mode": {
    "name": "ipython",
    "version": 2
   },
   "file_extension": ".py",
   "mimetype": "text/x-python",
   "name": "python",
   "nbconvert_exporter": "python",
   "pygments_lexer": "ipython2",
   "version": "2.7.6"
  },
  "kernelspec": {
   "name": "python3",
   "language": "python",
   "display_name": "Python 3"
  },
  "pycharm": {
   "stem_cell": {
    "cell_type": "raw",
    "source": [],
    "metadata": {
     "collapsed": false
    }
   }
  }
 },
 "nbformat": 4,
 "nbformat_minor": 0
}